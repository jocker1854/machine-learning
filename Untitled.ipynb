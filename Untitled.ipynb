{
 "cells": [
  {
   "cell_type": "code",
   "execution_count": 1,
   "id": "e46cf80c",
   "metadata": {},
   "outputs": [],
   "source": [
    "import numpy as np"
   ]
  },
  {
   "cell_type": "code",
   "execution_count": 17,
   "id": "2ae76957",
   "metadata": {},
   "outputs": [
    {
     "data": {
      "text/plain": [
       "array([[0, 0],\n",
       "       [0, 1],\n",
       "       [1, 0],\n",
       "       [1, 1]])"
      ]
     },
     "execution_count": 17,
     "metadata": {},
     "output_type": "execute_result"
    }
   ],
   "source": [
    "inputs = np.array([\n",
    "    [0, 0],\n",
    "    [0, 1],\n",
    "    [1, 0],\n",
    "    [1, 1]\n",
    "])\n",
    "inputs"
   ]
  },
  {
   "cell_type": "code",
   "execution_count": 34,
   "id": "35bee024",
   "metadata": {},
   "outputs": [
    {
     "data": {
      "text/plain": [
       "array([[0],\n",
       "       [0],\n",
       "       [0],\n",
       "       [1]])"
      ]
     },
     "execution_count": 34,
     "metadata": {},
     "output_type": "execute_result"
    }
   ],
   "source": [
    "targets = np.array([[0], [0], [0], [1]])\n",
    "targets"
   ]
  },
  {
   "cell_type": "code",
   "execution_count": 15,
   "id": "f27ec495",
   "metadata": {},
   "outputs": [
    {
     "data": {
      "text/plain": [
       "2"
      ]
     },
     "execution_count": 15,
     "metadata": {},
     "output_type": "execute_result"
    }
   ],
   "source": [
    "nIn = 2\n",
    "nIn"
   ]
  },
  {
   "cell_type": "code",
   "execution_count": 16,
   "id": "0160fd7e",
   "metadata": {},
   "outputs": [
    {
     "data": {
      "text/plain": [
       "1"
      ]
     },
     "execution_count": 16,
     "metadata": {},
     "output_type": "execute_result"
    }
   ],
   "source": [
    "nOut = 1\n",
    "nOut"
   ]
  },
  {
   "cell_type": "code",
   "execution_count": 12,
   "id": "831bbdec",
   "metadata": {},
   "outputs": [
    {
     "data": {
      "text/plain": [
       "4"
      ]
     },
     "execution_count": 12,
     "metadata": {},
     "output_type": "execute_result"
    }
   ],
   "source": [
    "nData = inputs.shape[0]\n",
    "nData"
   ]
  },
  {
   "cell_type": "code",
   "execution_count": 13,
   "id": "bd920141",
   "metadata": {},
   "outputs": [
    {
     "data": {
      "text/plain": [
       "(4, 2)"
      ]
     },
     "execution_count": 13,
     "metadata": {},
     "output_type": "execute_result"
    }
   ],
   "source": [
    "inputs.shape"
   ]
  },
  {
   "cell_type": "code",
   "execution_count": 19,
   "id": "b4559ad7",
   "metadata": {},
   "outputs": [
    {
     "data": {
      "text/plain": [
       "array([[ 0.0303947 ],\n",
       "       [ 0.01626871],\n",
       "       [-0.00965578]])"
      ]
     },
     "execution_count": 19,
     "metadata": {},
     "output_type": "execute_result"
    }
   ],
   "source": [
    "weights = np.random.rand(nIn + 1, nOut) * 0.1 - 0.05\n",
    "weights"
   ]
  },
  {
   "cell_type": "code",
   "execution_count": 20,
   "id": "7532e84e",
   "metadata": {},
   "outputs": [
    {
     "data": {
      "text/plain": [
       "array([[ 0.,  0., -1.],\n",
       "       [ 0.,  1., -1.],\n",
       "       [ 1.,  0., -1.],\n",
       "       [ 1.,  1., -1.]])"
      ]
     },
     "execution_count": 20,
     "metadata": {},
     "output_type": "execute_result"
    }
   ],
   "source": [
    "inputs = np.concatenate((inputs, -np.ones((nData, 1))), axis=1)\n",
    "inputs"
   ]
  },
  {
   "cell_type": "code",
   "execution_count": 22,
   "id": "a6bfa354",
   "metadata": {},
   "outputs": [
    {
     "data": {
      "text/plain": [
       "array([[0.00965578],\n",
       "       [0.02592449],\n",
       "       [0.04005049],\n",
       "       [0.05631919]])"
      ]
     },
     "execution_count": 22,
     "metadata": {},
     "output_type": "execute_result"
    }
   ],
   "source": [
    "activations = np.dot(inputs, weights)\n",
    "activations"
   ]
  },
  {
   "cell_type": "code",
   "execution_count": 29,
   "id": "517d56f4",
   "metadata": {},
   "outputs": [
    {
     "data": {
      "text/plain": [
       "array([0, 0, 0, 1])"
      ]
     },
     "execution_count": 29,
     "metadata": {},
     "output_type": "execute_result"
    }
   ],
   "source": [
    "targets"
   ]
  },
  {
   "cell_type": "code",
   "execution_count": 27,
   "id": "add22491",
   "metadata": {},
   "outputs": [
    {
     "data": {
      "text/plain": [
       "array([[1],\n",
       "       [1],\n",
       "       [1],\n",
       "       [1]])"
      ]
     },
     "execution_count": 27,
     "metadata": {},
     "output_type": "execute_result"
    }
   ],
   "source": [
    "outputs = np.where(activations > 0, 1, 0)\n",
    "outputs"
   ]
  },
  {
   "cell_type": "code",
   "execution_count": 25,
   "id": "619d2129",
   "metadata": {},
   "outputs": [],
   "source": []
  },
  {
   "cell_type": "code",
   "execution_count": 47,
   "id": "b484d499",
   "metadata": {},
   "outputs": [
    {
     "data": {
      "text/plain": [
       "array([[0.5303947 ],\n",
       "       [0.51626871],\n",
       "       [0.49034422]])"
      ]
     },
     "execution_count": 47,
     "metadata": {},
     "output_type": "execute_result"
    }
   ],
   "source": [
    "weights += learning_rate * np.dot(inputs.T, (targets - outputs))\n",
    "weights"
   ]
  },
  {
   "cell_type": "code",
   "execution_count": 49,
   "id": "a433456e",
   "metadata": {},
   "outputs": [
    {
     "data": {
      "text/plain": [
       "array([[0.5303947 ],\n",
       "       [0.51626871],\n",
       "       [0.49034422]])"
      ]
     },
     "execution_count": 49,
     "metadata": {},
     "output_type": "execute_result"
    }
   ],
   "source": [
    "weights"
   ]
  },
  {
   "cell_type": "markdown",
   "id": "9054582d",
   "metadata": {},
   "source": [
    "New"
   ]
  },
  {
   "cell_type": "code",
   "execution_count": 3,
   "id": "a5575627",
   "metadata": {},
   "outputs": [],
   "source": [
    "import numpy as np"
   ]
  },
  {
   "cell_type": "code",
   "execution_count": 4,
   "id": "b86dfddd",
   "metadata": {},
   "outputs": [],
   "source": [
    "inputs = np.array([\n",
    "    [0, 0, 0],\n",
    "    [0, 0, 1],\n",
    "    [0, 1, 0],\n",
    "    [0, 1, 1],\n",
    "    [1, 0, 0],\n",
    "    [1, 0, 1],\n",
    "    [1, 1, 0],\n",
    "    [1, 1, 1]\n",
    "])"
   ]
  },
  {
   "cell_type": "code",
   "execution_count": 5,
   "id": "f4eabca7",
   "metadata": {},
   "outputs": [],
   "source": [
    "targets = np.array([[0], \n",
    "                    [0], \n",
    "                    [0], \n",
    "                    [0],\n",
    "                    [0], \n",
    "                    [0],\n",
    "                    [0],\n",
    "                    [1]])"
   ]
  },
  {
   "cell_type": "code",
   "execution_count": 6,
   "id": "0532bb83",
   "metadata": {},
   "outputs": [
    {
     "data": {
      "text/plain": [
       "3"
      ]
     },
     "execution_count": 6,
     "metadata": {},
     "output_type": "execute_result"
    }
   ],
   "source": [
    "nIn = inputs.shape[1]\n",
    "nIn"
   ]
  },
  {
   "cell_type": "code",
   "execution_count": 8,
   "id": "6f3b8944",
   "metadata": {},
   "outputs": [
    {
     "data": {
      "text/plain": [
       "1"
      ]
     },
     "execution_count": 8,
     "metadata": {},
     "output_type": "execute_result"
    }
   ],
   "source": [
    "nOut = targets.shape[1]\n",
    "nOut"
   ]
  },
  {
   "cell_type": "code",
   "execution_count": null,
   "id": "2352402c",
   "metadata": {},
   "outputs": [],
   "source": [
    "#nIn = 3"
   ]
  },
  {
   "cell_type": "code",
   "execution_count": null,
   "id": "e86d2215",
   "metadata": {},
   "outputs": [],
   "source": [
    "#nOut = 1"
   ]
  },
  {
   "cell_type": "code",
   "execution_count": 9,
   "id": "933fea36",
   "metadata": {},
   "outputs": [],
   "source": [
    "nData = inputs.shape[0]"
   ]
  },
  {
   "cell_type": "code",
   "execution_count": 10,
   "id": "67f97392",
   "metadata": {},
   "outputs": [],
   "source": [
    "weights = np.random.rand(nIn + 1, nOut) * 0.1 - 0.05"
   ]
  },
  {
   "cell_type": "code",
   "execution_count": 11,
   "id": "5717a547",
   "metadata": {},
   "outputs": [],
   "source": [
    "inputs = np.concatenate((inputs, -np.ones((nData, 1))), axis=1)"
   ]
  },
  {
   "cell_type": "code",
   "execution_count": 12,
   "id": "5238fdfe",
   "metadata": {},
   "outputs": [],
   "source": [
    "learning_rate = 0.25\n",
    "max_iters = 100"
   ]
  },
  {
   "cell_type": "code",
   "execution_count": 13,
   "id": "1eedd38b",
   "metadata": {},
   "outputs": [],
   "source": [
    "def accuracy(y_pred, y_test):\n",
    "    return (y_pred==y_test).mean()"
   ]
  },
  {
   "cell_type": "code",
   "execution_count": 14,
   "id": "70444d3a",
   "metadata": {},
   "outputs": [
    {
     "name": "stdout",
     "output_type": "stream",
     "text": [
      "iteration:  1\n",
      "0.375\n",
      "iteration:  2\n",
      "0.875\n",
      "iteration:  3\n",
      "0.875\n",
      "iteration:  4\n",
      "0.875\n",
      "iteration:  5\n",
      "0.75\n",
      "iteration:  6\n",
      "0.875\n",
      "iteration:  7\n",
      "0.875\n",
      "iteration:  8\n",
      "0.5\n",
      "iteration:  9\n",
      "0.875\n",
      "iteration:  10\n",
      "0.875\n",
      "iteration:  11\n",
      "1.0\n",
      "[[0]\n",
      " [0]\n",
      " [0]\n",
      " [0]\n",
      " [0]\n",
      " [0]\n",
      " [0]\n",
      " [1]]\n",
      "[[0.29316292]\n",
      " [0.25994391]\n",
      " [0.45532966]\n",
      " [0.97552303]]\n"
     ]
    }
   ],
   "source": [
    "for i in range(max_iters):\n",
    "    activations = np.dot(inputs, weights)\n",
    "    outputs = np.where(activations > 0, 1, 0)\n",
    "    weights += learning_rate * np.dot(inputs.T, (targets - outputs))\n",
    "    acc = accuracy(outputs, targets)\n",
    "    #if (i+1)%100 == 0:\n",
    "    print(\"iteration: \", i+1)\n",
    "    print(acc)\n",
    "    if acc == 1.0:\n",
    "        print(outputs)\n",
    "        print(weights)\n",
    "        break"
   ]
  }
 ],
 "metadata": {
  "kernelspec": {
   "display_name": "base",
   "language": "python",
   "name": "python3"
  },
  "language_info": {
   "codemirror_mode": {
    "name": "ipython",
    "version": 3
   },
   "file_extension": ".py",
   "mimetype": "text/x-python",
   "name": "python",
   "nbconvert_exporter": "python",
   "pygments_lexer": "ipython3",
   "version": "3.9.7"
  }
 },
 "nbformat": 4,
 "nbformat_minor": 5
}
